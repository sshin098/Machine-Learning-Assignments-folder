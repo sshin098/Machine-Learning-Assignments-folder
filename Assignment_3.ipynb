{
  "cells": [
    {
      "cell_type": "markdown",
      "metadata": {
        "id": "lPwpAYBOWaNn"
      },
      "source": [
        "ASSIGNMENT 3 - SIT720 "
      ]
    },
    {
      "cell_type": "markdown",
      "metadata": {
        "id": "0UUXCYovWdzz"
      },
      "source": [
        "1.Load data from digitData2.csv\" file. The last column of each file presents the label and rest of the columns are features. "
      ]
    },
    {
      "cell_type": "code",
      "execution_count": 2,
      "metadata": {
        "colab": {
          "base_uri": "https://localhost:8080/",
          "height": 74
        },
        "id": "m-W5aLWVWjLj",
        "outputId": "a7f48449-7981-47cf-984a-f280d6cccb0d"
      },
      "outputs": [
        {
          "output_type": "display_data",
          "data": {
            "text/plain": [
              "<IPython.core.display.HTML object>"
            ],
            "text/html": [
              "\n",
              "     <input type=\"file\" id=\"files-68ac72ad-e87b-493b-8a1b-b6473079b3ee\" name=\"files[]\" multiple disabled\n",
              "        style=\"border:none\" />\n",
              "     <output id=\"result-68ac72ad-e87b-493b-8a1b-b6473079b3ee\">\n",
              "      Upload widget is only available when the cell has been executed in the\n",
              "      current browser session. Please rerun this cell to enable.\n",
              "      </output>\n",
              "      <script>// Copyright 2017 Google LLC\n",
              "//\n",
              "// Licensed under the Apache License, Version 2.0 (the \"License\");\n",
              "// you may not use this file except in compliance with the License.\n",
              "// You may obtain a copy of the License at\n",
              "//\n",
              "//      http://www.apache.org/licenses/LICENSE-2.0\n",
              "//\n",
              "// Unless required by applicable law or agreed to in writing, software\n",
              "// distributed under the License is distributed on an \"AS IS\" BASIS,\n",
              "// WITHOUT WARRANTIES OR CONDITIONS OF ANY KIND, either express or implied.\n",
              "// See the License for the specific language governing permissions and\n",
              "// limitations under the License.\n",
              "\n",
              "/**\n",
              " * @fileoverview Helpers for google.colab Python module.\n",
              " */\n",
              "(function(scope) {\n",
              "function span(text, styleAttributes = {}) {\n",
              "  const element = document.createElement('span');\n",
              "  element.textContent = text;\n",
              "  for (const key of Object.keys(styleAttributes)) {\n",
              "    element.style[key] = styleAttributes[key];\n",
              "  }\n",
              "  return element;\n",
              "}\n",
              "\n",
              "// Max number of bytes which will be uploaded at a time.\n",
              "const MAX_PAYLOAD_SIZE = 100 * 1024;\n",
              "\n",
              "function _uploadFiles(inputId, outputId) {\n",
              "  const steps = uploadFilesStep(inputId, outputId);\n",
              "  const outputElement = document.getElementById(outputId);\n",
              "  // Cache steps on the outputElement to make it available for the next call\n",
              "  // to uploadFilesContinue from Python.\n",
              "  outputElement.steps = steps;\n",
              "\n",
              "  return _uploadFilesContinue(outputId);\n",
              "}\n",
              "\n",
              "// This is roughly an async generator (not supported in the browser yet),\n",
              "// where there are multiple asynchronous steps and the Python side is going\n",
              "// to poll for completion of each step.\n",
              "// This uses a Promise to block the python side on completion of each step,\n",
              "// then passes the result of the previous step as the input to the next step.\n",
              "function _uploadFilesContinue(outputId) {\n",
              "  const outputElement = document.getElementById(outputId);\n",
              "  const steps = outputElement.steps;\n",
              "\n",
              "  const next = steps.next(outputElement.lastPromiseValue);\n",
              "  return Promise.resolve(next.value.promise).then((value) => {\n",
              "    // Cache the last promise value to make it available to the next\n",
              "    // step of the generator.\n",
              "    outputElement.lastPromiseValue = value;\n",
              "    return next.value.response;\n",
              "  });\n",
              "}\n",
              "\n",
              "/**\n",
              " * Generator function which is called between each async step of the upload\n",
              " * process.\n",
              " * @param {string} inputId Element ID of the input file picker element.\n",
              " * @param {string} outputId Element ID of the output display.\n",
              " * @return {!Iterable<!Object>} Iterable of next steps.\n",
              " */\n",
              "function* uploadFilesStep(inputId, outputId) {\n",
              "  const inputElement = document.getElementById(inputId);\n",
              "  inputElement.disabled = false;\n",
              "\n",
              "  const outputElement = document.getElementById(outputId);\n",
              "  outputElement.innerHTML = '';\n",
              "\n",
              "  const pickedPromise = new Promise((resolve) => {\n",
              "    inputElement.addEventListener('change', (e) => {\n",
              "      resolve(e.target.files);\n",
              "    });\n",
              "  });\n",
              "\n",
              "  const cancel = document.createElement('button');\n",
              "  inputElement.parentElement.appendChild(cancel);\n",
              "  cancel.textContent = 'Cancel upload';\n",
              "  const cancelPromise = new Promise((resolve) => {\n",
              "    cancel.onclick = () => {\n",
              "      resolve(null);\n",
              "    };\n",
              "  });\n",
              "\n",
              "  // Wait for the user to pick the files.\n",
              "  const files = yield {\n",
              "    promise: Promise.race([pickedPromise, cancelPromise]),\n",
              "    response: {\n",
              "      action: 'starting',\n",
              "    }\n",
              "  };\n",
              "\n",
              "  cancel.remove();\n",
              "\n",
              "  // Disable the input element since further picks are not allowed.\n",
              "  inputElement.disabled = true;\n",
              "\n",
              "  if (!files) {\n",
              "    return {\n",
              "      response: {\n",
              "        action: 'complete',\n",
              "      }\n",
              "    };\n",
              "  }\n",
              "\n",
              "  for (const file of files) {\n",
              "    const li = document.createElement('li');\n",
              "    li.append(span(file.name, {fontWeight: 'bold'}));\n",
              "    li.append(span(\n",
              "        `(${file.type || 'n/a'}) - ${file.size} bytes, ` +\n",
              "        `last modified: ${\n",
              "            file.lastModifiedDate ? file.lastModifiedDate.toLocaleDateString() :\n",
              "                                    'n/a'} - `));\n",
              "    const percent = span('0% done');\n",
              "    li.appendChild(percent);\n",
              "\n",
              "    outputElement.appendChild(li);\n",
              "\n",
              "    const fileDataPromise = new Promise((resolve) => {\n",
              "      const reader = new FileReader();\n",
              "      reader.onload = (e) => {\n",
              "        resolve(e.target.result);\n",
              "      };\n",
              "      reader.readAsArrayBuffer(file);\n",
              "    });\n",
              "    // Wait for the data to be ready.\n",
              "    let fileData = yield {\n",
              "      promise: fileDataPromise,\n",
              "      response: {\n",
              "        action: 'continue',\n",
              "      }\n",
              "    };\n",
              "\n",
              "    // Use a chunked sending to avoid message size limits. See b/62115660.\n",
              "    let position = 0;\n",
              "    do {\n",
              "      const length = Math.min(fileData.byteLength - position, MAX_PAYLOAD_SIZE);\n",
              "      const chunk = new Uint8Array(fileData, position, length);\n",
              "      position += length;\n",
              "\n",
              "      const base64 = btoa(String.fromCharCode.apply(null, chunk));\n",
              "      yield {\n",
              "        response: {\n",
              "          action: 'append',\n",
              "          file: file.name,\n",
              "          data: base64,\n",
              "        },\n",
              "      };\n",
              "\n",
              "      let percentDone = fileData.byteLength === 0 ?\n",
              "          100 :\n",
              "          Math.round((position / fileData.byteLength) * 100);\n",
              "      percent.textContent = `${percentDone}% done`;\n",
              "\n",
              "    } while (position < fileData.byteLength);\n",
              "  }\n",
              "\n",
              "  // All done.\n",
              "  yield {\n",
              "    response: {\n",
              "      action: 'complete',\n",
              "    }\n",
              "  };\n",
              "}\n",
              "\n",
              "scope.google = scope.google || {};\n",
              "scope.google.colab = scope.google.colab || {};\n",
              "scope.google.colab._files = {\n",
              "  _uploadFiles,\n",
              "  _uploadFilesContinue,\n",
              "};\n",
              "})(self);\n",
              "</script> "
            ]
          },
          "metadata": {}
        },
        {
          "output_type": "stream",
          "name": "stdout",
          "text": [
            "Saving digitData2.csv to digitData2.csv\n"
          ]
        }
      ],
      "source": [
        "import pandas as pd\n",
        "import numpy as np\n",
        "from google.colab import files \n",
        "import io\n",
        "uploaded = files.upload()\n",
        "data = pd.read_csv(io.BytesIO(uploaded['digitData2.csv']))"
      ]
    },
    {
      "cell_type": "code",
      "execution_count": 3,
      "metadata": {
        "id": "ALaIv2Bcbla1",
        "colab": {
          "base_uri": "https://localhost:8080/"
        },
        "outputId": "f56f3261-b558-453b-c6f7-cbb2149897a1"
      },
      "outputs": [
        {
          "output_type": "execute_result",
          "data": {
            "text/plain": [
              "(1527, 65)"
            ]
          },
          "metadata": {},
          "execution_count": 3
        }
      ],
      "source": [
        "data.shape"
      ]
    },
    {
      "cell_type": "code",
      "execution_count": 4,
      "metadata": {
        "id": "Q5mbQksIYJdA"
      },
      "outputs": [],
      "source": [
        "#Splitting the Target and feature variables \n",
        "random_state = 42\n",
        "x = data.iloc[ :, 0:63]                                                       #Assigning all feature variables to x\n",
        "y = data.iloc[:,64]                                                           #Assigning target variable to y"
      ]
    },
    {
      "cell_type": "markdown",
      "metadata": {
        "id": "IU2m82kJYm7G"
      },
      "source": [
        "2. Selecting the optimum k value using Silhouette Coefficient and plot the optimum k values. "
      ]
    },
    {
      "cell_type": "code",
      "execution_count": 5,
      "metadata": {
        "id": "QVQtROEGljOr",
        "colab": {
          "base_uri": "https://localhost:8080/"
        },
        "outputId": "d885f8b9-4e8c-4102-bdba-f92752640dc5"
      },
      "outputs": [
        {
          "output_type": "stream",
          "name": "stdout",
          "text": [
            "Silhouette score for k = 3 is 0.12852487196679577\n",
            "Silhouette score for k = 4 is 0.13184384596535292\n",
            "Silhouette score for k = 5 is 0.13943996744051654\n",
            "Silhouette score for k = 6 is 0.15755935081988642\n",
            "Silhouette score for k = 7 is 0.17048187301812823\n",
            "Silhouette score for k = 8 is 0.18499669073182623\n",
            "Silhouette score for k = 9 is 0.1947091015068631\n",
            "Silhouette score for k = 10 is 0.18827933292354992\n",
            "Silhouette score for k = 11 is 0.18950612125207328\n",
            "Silhouette score for k = 12 is 0.1916027330213541\n"
          ]
        }
      ],
      "source": [
        "import warnings\n",
        "warnings.filterwarnings(\"ignore\")\n",
        "import sklearn.metrics as metrics\n",
        "import sklearn.cluster as skc\n",
        "Krange = range(3,13)\n",
        "silhouette_score = []\n",
        "for i in Krange:\n",
        "    labels=skc.KMeans(n_clusters=i,random_state=42).fit(x).labels_\n",
        "    score = metrics.silhouette_score(x,labels,metric=\"euclidean\",sample_size=1527,random_state=42)\n",
        "    silhouette_score.append(score)\n",
        "    print (\"Silhouette score for k = \"+str(i)+\" is \"+str(metrics.silhouette_score(x,labels,metric=\"euclidean\",sample_size=1527,random_state=42)))"
      ]
    },
    {
      "cell_type": "code",
      "execution_count": 6,
      "metadata": {
        "id": "IKJR7Blcm39Y",
        "colab": {
          "base_uri": "https://localhost:8080/",
          "height": 467
        },
        "outputId": "1595c376-3cc9-483a-8f24-ed67b2a50d93"
      },
      "outputs": [
        {
          "output_type": "execute_result",
          "data": {
            "text/plain": [
              "<Axes: xlabel='Cluster', ylabel='Silohouette Score'>"
            ]
          },
          "metadata": {},
          "execution_count": 6
        },
        {
          "output_type": "display_data",
          "data": {
            "text/plain": [
              "<Figure size 640x480 with 1 Axes>"
            ],
            "image/png": "[encoded data removed]"
          },
          "metadata": {}
        }
      ],
      "source": [
        "import seaborn as sns\n",
        "silhouette = pd.DataFrame({'Cluster' : Krange, 'Silohouette Score' : silhouette_score})\n",
        "sns.lineplot(x = 'Cluster', y = 'Silohouette Score', data = silhouette, marker=\"+\")"
      ]
    },
    {
      "cell_type": "markdown",
      "metadata": {
        "id": "6hz3-KVbhrJO"
      },
      "source": [
        "3. Create clusters using Kmeans and Kmeans++ algorithms with optimal k value found in the previous problem. Report performances using appropriate evaluation metrics. Compare the results. "
      ]
    },
    {
      "cell_type": "code",
      "execution_count": 7,
      "metadata": {
        "id": "yzmSMCCkZKIX",
        "colab": {
          "base_uri": "https://localhost:8080/"
        },
        "outputId": "859043a3-84b7-4c7c-92cd-6a0467e63809"
      },
      "outputs": [
        {
          "output_type": "stream",
          "name": "stdout",
          "text": [
            "Accuracy score: 0.19\n"
          ]
        }
      ],
      "source": [
        "import matplotlib.pyplot as plt \n",
        "from sklearn.cluster import KMeans\n",
        "model = KMeans(n_clusters=9, random_state=0) \n",
        "model.fit(x)\n",
        "label = model.labels_\n",
        "labels = sum(y == label)\n",
        "model.inertia_\n",
        "centre = model.cluster_centers_\n",
        "print('Accuracy score: {0:0.2f}'. format(labels/(y.size)))"
      ]
    },
    {
      "cell_type": "code",
      "execution_count": 8,
      "metadata": {
        "id": "sBJvIoLxbfYF",
        "colab": {
          "base_uri": "https://localhost:8080/"
        },
        "outputId": "7128ae83-6d62-46e6-d442-b9bdbddbdbb9"
      },
      "outputs": [
        {
          "output_type": "stream",
          "name": "stdout",
          "text": [
            "Accuracy score: 0.19\n"
          ]
        }
      ],
      "source": [
        "from sklearn.cluster import KMeans\n",
        "model = KMeans(n_clusters=9, init=\"k-means++\", random_state=0) \n",
        "model.fit(x)\n",
        "label = model.labels_\n",
        "labels = sum(y == label)\n",
        "print('Accuracy score: {0:0.2f}'. format(labels/(y.size)))"
      ]
    },
    {
      "cell_type": "markdown",
      "metadata": {
        "id": "ZA1mPpXhM-q4"
      },
      "source": [
        "4. Now repeat clustering using Kmeans for 50 times and report the average performance. Again compare the results that you have obtained in Q3 using Kmeans++ and explain the difference (if any)."
      ]
    },
    {
      "cell_type": "code",
      "execution_count": 9,
      "metadata": {
        "id": "wOzQ_1STeUNf",
        "colab": {
          "base_uri": "https://localhost:8080/"
        },
        "outputId": "cb84be30-0ad6-4cbf-90b4-0c868388b8ea"
      },
      "outputs": [
        {
          "output_type": "stream",
          "name": "stdout",
          "text": [
            "Accuracy score: 0.19\n"
          ]
        }
      ],
      "source": [
        "import matplotlib.pyplot as plt \n",
        "from sklearn.cluster import KMeans\n",
        "a = range (1,51)\n",
        "for i in a:\n",
        "  model = KMeans(n_clusters=i, random_state=0, max_iter = 50) \n",
        "  model.fit(x)\n",
        "  labels = sum(y == label)\n",
        "print('Accuracy score: {0:0.2f}'. format(labels/(y.size)))"
      ]
    },
    {
      "cell_type": "markdown",
      "metadata": {
        "id": "3FaE5HgELYwe"
      },
      "source": [
        "5. Apply DBSCAN on this dataset (digitData2.csv) and find the optimum \"eps\" and \"min_samples\" value. Is the number of cluster same as the cluster found in Q2? Explain the similarity or differences that you have found between two solutions. "
      ]
    },
    {
      "cell_type": "code",
      "execution_count": 24,
      "metadata": {
        "id": "CzVobfQRLby8",
        "colab": {
          "base_uri": "https://localhost:8080/",
          "height": 694
        },
        "outputId": "41470830-bee7-437c-dc19-a06c072e4d34"
      },
      "outputs": [
        {
          "output_type": "execute_result",
          "data": {
            "text/plain": [
              "[<matplotlib.lines.Line2D at 0x7f20e569fe80>]"
            ]
          },
          "metadata": {},
          "execution_count": 24
        },
        {
          "output_type": "display_data",
          "data": {
            "text/plain": [
              "<Figure size 1000x800 with 1 Axes>"
            ],
            "image/png": "[encoded data removed]"
          },
          "metadata": {}
        }
      ],
      "source": [
        "from sklearn.cluster import DBSCAN, KMeans \n",
        "from sklearn.neighbors import NearestNeighbors\n",
        "nmodel = NearestNeighbors(n_neighbors=20).fit(x)\n",
        "distances, indices = nmodel.kneighbors(x)\n",
        "distances = nmodel.sort(distances, axis=0)\n",
        "distances = distances[:,1]\n",
        "plt.figure(figsize=(10,8))\n",
        "plt.plot(distances)"
      ]
    },
    {
      "cell_type": "code",
      "source": [
        "min_sample = range(10,25)\n",
        "eps = np.arange(0.05,0.13, 0.01) "
      ],
      "metadata": {
        "id": "m_CGGVVqqUhy"
      },
      "execution_count": 25,
      "outputs": []
    },
    {
      "cell_type": "code",
      "source": [
        "output = []\n",
        "\n",
        "for mins in min_sample:\n",
        "    for ep in eps:\n",
        "        labels = DBSCAN(min_sample=mins, eps = ep).fit(x).labels_\n",
        "        output.append((mins, ep))\n",
        "\n",
        "min_samples, eps = sorted(output, key=lambda x:x[-1])[-1]\n",
        "print(f\"min_sample: {min_sample}\")\n",
        "print(f\"eps: {eps}\")"
      ],
      "metadata": {
        "colab": {
          "base_uri": "https://localhost:8080/"
        },
        "id": "2Y4Kzat3qxZA",
        "outputId": "afcfcd13-1df7-4caa-a40b-9835ff950f33"
      },
      "execution_count": 26,
      "outputs": [
        {
          "output_type": "stream",
          "name": "stdout",
          "text": [
            "min_samples: 24\n",
            "eps: 0.12000000000000001\n"
          ]
        }
      ]
    },
    {
      "cell_type": "code",
      "source": [
        "from collections import Counter\n",
        "labels = DBSCAN(min_samples= 25, eps = 0.12).fit(x).labels_\n",
        "clusters = len(Counter(labels))\n",
        "print(f\"Number of clusters: {clusters}\")"
      ],
      "metadata": {
        "colab": {
          "base_uri": "https://localhost:8080/"
        },
        "id": "GRzKrCo7Bqw2",
        "outputId": "de01a814-6682-4928-ed96-7e479cc5e01d"
      },
      "execution_count": 27,
      "outputs": [
        {
          "output_type": "stream",
          "name": "stdout",
          "text": [
            "Number of clusters: 1\n"
          ]
        }
      ]
    },
    {
      "cell_type": "markdown",
      "source": [
        "The number of clusters are different. "
      ],
      "metadata": {
        "id": "jBeELlNsHdJI"
      }
    }
  ],
  "metadata": {
    "colab": {
      "provenance": []
    },
    "kernelspec": {
      "display_name": "Python 3",
      "name": "python3"
    },
    "language_info": {
      "name": "python"
    }
  },
  "nbformat": 4,
  "nbformat_minor": 0
}