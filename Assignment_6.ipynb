{
  "nbformat": 4,
  "nbformat_minor": 0,
  "metadata": {
    "colab": {
      "provenance": []
    },
    "kernelspec": {
      "name": "python3",
      "display_name": "Python 3"
    },
    "language_info": {
      "name": "python"
    }
  },
  "cells": [
    {
      "cell_type": "code",
      "execution_count": null,
      "metadata": {
        "id": "eBJRcLBtV80j"
      },
      "outputs": [],
      "source": []
    },
    {
      "cell_type": "markdown",
      "source": [
        "ASSIGNMENT 6"
      ],
      "metadata": {
        "id": "924xGiLmV-vX"
      }
    },
    {
      "cell_type": "markdown",
      "source": [
        "1. Download and read the \"Real estate valuation data set.xlsx\" dataset from the UCI repository. You can find the description of the features and targets on the UCI repository website. Split the dataset in train and test set (use your choice of splitting). Train a linear regression model and report the performance (use your choice of at least four performance metrics)"
      ],
      "metadata": {
        "id": "0FA5GwXZWG_H"
      }
    },
    {
      "cell_type": "code",
      "source": [
        "from google.colab import files\n",
        "uploaded = files.upload()\n",
        "import pandas as pd\n",
        "import io\n",
        "data = pd.read_csv(io.BytesIO(uploaded['Real estate valuation dataset.csv']))"
      ],
      "metadata": {
        "colab": {
          "base_uri": "https://localhost:8080/",
          "height": 74
        },
        "id": "v3yoOJvfYUoJ",
        "outputId": "45068e0e-85a6-4e33-c4bb-a522a1a980bc"
      },
      "execution_count": 2,
      "outputs": [
        {
          "output_type": "display_data",
          "data": {
            "text/plain": [
              "<IPython.core.display.HTML object>"
            ],
            "text/html": [
              "\n",
              "     <input type=\"file\" id=\"files-beb3f476-6332-4a8f-89f9-d44f80265b9d\" name=\"files[]\" multiple disabled\n",
              "        style=\"border:none\" />\n",
              "     <output id=\"result-beb3f476-6332-4a8f-89f9-d44f80265b9d\">\n",
              "      Upload widget is only available when the cell has been executed in the\n",
              "      current browser session. Please rerun this cell to enable.\n",
              "      </output>\n",
              "      <script>// Copyright 2017 Google LLC\n",
              "//\n",
              "// Licensed under the Apache License, Version 2.0 (the \"License\");\n",
              "// you may not use this file except in compliance with the License.\n",
              "// You may obtain a copy of the License at\n",
              "//\n",
              "//      http://www.apache.org/licenses/LICENSE-2.0\n",
              "//\n",
              "// Unless required by applicable law or agreed to in writing, software\n",
              "// distributed under the License is distributed on an \"AS IS\" BASIS,\n",
              "// WITHOUT WARRANTIES OR CONDITIONS OF ANY KIND, either express or implied.\n",
              "// See the License for the specific language governing permissions and\n",
              "// limitations under the License.\n",
              "\n",
              "/**\n",
              " * @fileoverview Helpers for google.colab Python module.\n",
              " */\n",
              "(function(scope) {\n",
              "function span(text, styleAttributes = {}) {\n",
              "  const element = document.createElement('span');\n",
              "  element.textContent = text;\n",
              "  for (const key of Object.keys(styleAttributes)) {\n",
              "    element.style[key] = styleAttributes[key];\n",
              "  }\n",
              "  return element;\n",
              "}\n",
              "\n",
              "// Max number of bytes which will be uploaded at a time.\n",
              "const MAX_PAYLOAD_SIZE = 100 * 1024;\n",
              "\n",
              "function _uploadFiles(inputId, outputId) {\n",
              "  const steps = uploadFilesStep(inputId, outputId);\n",
              "  const outputElement = document.getElementById(outputId);\n",
              "  // Cache steps on the outputElement to make it available for the next call\n",
              "  // to uploadFilesContinue from Python.\n",
              "  outputElement.steps = steps;\n",
              "\n",
              "  return _uploadFilesContinue(outputId);\n",
              "}\n",
              "\n",
              "// This is roughly an async generator (not supported in the browser yet),\n",
              "// where there are multiple asynchronous steps and the Python side is going\n",
              "// to poll for completion of each step.\n",
              "// This uses a Promise to block the python side on completion of each step,\n",
              "// then passes the result of the previous step as the input to the next step.\n",
              "function _uploadFilesContinue(outputId) {\n",
              "  const outputElement = document.getElementById(outputId);\n",
              "  const steps = outputElement.steps;\n",
              "\n",
              "  const next = steps.next(outputElement.lastPromiseValue);\n",
              "  return Promise.resolve(next.value.promise).then((value) => {\n",
              "    // Cache the last promise value to make it available to the next\n",
              "    // step of the generator.\n",
              "    outputElement.lastPromiseValue = value;\n",
              "    return next.value.response;\n",
              "  });\n",
              "}\n",
              "\n",
              "/**\n",
              " * Generator function which is called between each async step of the upload\n",
              " * process.\n",
              " * @param {string} inputId Element ID of the input file picker element.\n",
              " * @param {string} outputId Element ID of the output display.\n",
              " * @return {!Iterable<!Object>} Iterable of next steps.\n",
              " */\n",
              "function* uploadFilesStep(inputId, outputId) {\n",
              "  const inputElement = document.getElementById(inputId);\n",
              "  inputElement.disabled = false;\n",
              "\n",
              "  const outputElement = document.getElementById(outputId);\n",
              "  outputElement.innerHTML = '';\n",
              "\n",
              "  const pickedPromise = new Promise((resolve) => {\n",
              "    inputElement.addEventListener('change', (e) => {\n",
              "      resolve(e.target.files);\n",
              "    });\n",
              "  });\n",
              "\n",
              "  const cancel = document.createElement('button');\n",
              "  inputElement.parentElement.appendChild(cancel);\n",
              "  cancel.textContent = 'Cancel upload';\n",
              "  const cancelPromise = new Promise((resolve) => {\n",
              "    cancel.onclick = () => {\n",
              "      resolve(null);\n",
              "    };\n",
              "  });\n",
              "\n",
              "  // Wait for the user to pick the files.\n",
              "  const files = yield {\n",
              "    promise: Promise.race([pickedPromise, cancelPromise]),\n",
              "    response: {\n",
              "      action: 'starting',\n",
              "    }\n",
              "  };\n",
              "\n",
              "  cancel.remove();\n",
              "\n",
              "  // Disable the input element since further picks are not allowed.\n",
              "  inputElement.disabled = true;\n",
              "\n",
              "  if (!files) {\n",
              "    return {\n",
              "      response: {\n",
              "        action: 'complete',\n",
              "      }\n",
              "    };\n",
              "  }\n",
              "\n",
              "  for (const file of files) {\n",
              "    const li = document.createElement('li');\n",
              "    li.append(span(file.name, {fontWeight: 'bold'}));\n",
              "    li.append(span(\n",
              "        `(${file.type || 'n/a'}) - ${file.size} bytes, ` +\n",
              "        `last modified: ${\n",
              "            file.lastModifiedDate ? file.lastModifiedDate.toLocaleDateString() :\n",
              "                                    'n/a'} - `));\n",
              "    const percent = span('0% done');\n",
              "    li.appendChild(percent);\n",
              "\n",
              "    outputElement.appendChild(li);\n",
              "\n",
              "    const fileDataPromise = new Promise((resolve) => {\n",
              "      const reader = new FileReader();\n",
              "      reader.onload = (e) => {\n",
              "        resolve(e.target.result);\n",
              "      };\n",
              "      reader.readAsArrayBuffer(file);\n",
              "    });\n",
              "    // Wait for the data to be ready.\n",
              "    let fileData = yield {\n",
              "      promise: fileDataPromise,\n",
              "      response: {\n",
              "        action: 'continue',\n",
              "      }\n",
              "    };\n",
              "\n",
              "    // Use a chunked sending to avoid message size limits. See b/62115660.\n",
              "    let position = 0;\n",
              "    do {\n",
              "      const length = Math.min(fileData.byteLength - position, MAX_PAYLOAD_SIZE);\n",
              "      const chunk = new Uint8Array(fileData, position, length);\n",
              "      position += length;\n",
              "\n",
              "      const base64 = btoa(String.fromCharCode.apply(null, chunk));\n",
              "      yield {\n",
              "        response: {\n",
              "          action: 'append',\n",
              "          file: file.name,\n",
              "          data: base64,\n",
              "        },\n",
              "      };\n",
              "\n",
              "      let percentDone = fileData.byteLength === 0 ?\n",
              "          100 :\n",
              "          Math.round((position / fileData.byteLength) * 100);\n",
              "      percent.textContent = `${percentDone}% done`;\n",
              "\n",
              "    } while (position < fileData.byteLength);\n",
              "  }\n",
              "\n",
              "  // All done.\n",
              "  yield {\n",
              "    response: {\n",
              "      action: 'complete',\n",
              "    }\n",
              "  };\n",
              "}\n",
              "\n",
              "scope.google = scope.google || {};\n",
              "scope.google.colab = scope.google.colab || {};\n",
              "scope.google.colab._files = {\n",
              "  _uploadFiles,\n",
              "  _uploadFilesContinue,\n",
              "};\n",
              "})(self);\n",
              "</script> "
            ]
          },
          "metadata": {}
        },
        {
          "output_type": "stream",
          "name": "stdout",
          "text": [
            "Saving Real estate valuation dataset.csv to Real estate valuation dataset.csv\n"
          ]
        }
      ]
    },
    {
      "cell_type": "code",
      "source": [
        "data.head\n",
        "#Splitting the Target and feature variables \n",
        "x = data.iloc[ :, 0:6]                    \n",
        "y = data.iloc [:, 7 ]  "
      ],
      "metadata": {
        "id": "h8BkA5jmZpFW"
      },
      "execution_count": 3,
      "outputs": []
    },
    {
      "cell_type": "code",
      "source": [
        "from sklearn.model_selection import train_test_split\n",
        "x_train, x_test, y_train, y_test= train_test_split(x, y, test_size=0.3, random_state=1)\n",
        "print('The x test data is', x_test)\n",
        "print('The x train data is', x_train)\n",
        "print('The y test data is', y_test)\n",
        "print('The y train data is', y_train)"
      ],
      "metadata": {
        "colab": {
          "base_uri": "https://localhost:8080/"
        },
        "id": "7_Lb8MCUaejW",
        "outputId": "aa68785b-7307-4a9f-c846-9248d81d3b80"
      },
      "execution_count": 4,
      "outputs": [
        {
          "output_type": "stream",
          "name": "stdout",
          "text": [
            "The x test data is       No  X1 transaction date  X2 house age  \\\n",
            "388  389             2013.500          10.4   \n",
            "102  103             2013.083           1.1   \n",
            "187  188             2013.000           8.9   \n",
            "162  163             2012.750          16.0   \n",
            "90    91             2012.833           0.0   \n",
            "..   ...                  ...           ...   \n",
            "323  324             2013.417          28.6   \n",
            "73    74             2013.167          13.8   \n",
            "238  239             2013.083          12.8   \n",
            "273  274             2013.417          13.2   \n",
            "364  365             2013.417          35.3   \n",
            "\n",
            "     X3 distance to the nearest MRT station  X4 number of convenience stores  \\\n",
            "388                               2251.9380                                4   \n",
            "102                                193.5845                                6   \n",
            "187                               3078.1760                                0   \n",
            "162                               4066.5870                                0   \n",
            "90                                 274.0144                                1   \n",
            "..                                      ...                              ...   \n",
            "323                                197.1338                                6   \n",
            "73                                4082.0150                                0   \n",
            "238                                732.8528                                0   \n",
            "273                                170.1289                                1   \n",
            "364                                614.1394                                7   \n",
            "\n",
            "     X5 latitude  \n",
            "388     24.95957  \n",
            "102     24.96571  \n",
            "187     24.95464  \n",
            "162     24.94297  \n",
            "90      24.97480  \n",
            "..           ...  \n",
            "323     24.97631  \n",
            "73      24.94155  \n",
            "238     24.97668  \n",
            "273     24.97371  \n",
            "364     24.97913  \n",
            "\n",
            "[125 rows x 6 columns]\n",
            "The x train data is       No  X1 transaction date  X2 house age  \\\n",
            "274  275             2013.167          27.5   \n",
            "271  272             2012.917          17.7   \n",
            "98    99             2013.417          16.4   \n",
            "69    70             2012.833          12.5   \n",
            "378  379             2013.333          37.3   \n",
            "..   ...                  ...           ...   \n",
            "255  256             2013.417          31.5   \n",
            "72    73             2013.583          32.5   \n",
            "396  397             2012.667          37.1   \n",
            "235  236             2012.750          12.9   \n",
            "37    38             2013.167          12.0   \n",
            "\n",
            "     X3 distance to the nearest MRT station  X4 number of convenience stores  \\\n",
            "274                                394.0173                                7   \n",
            "271                                451.6419                                8   \n",
            "98                                 289.3248                                5   \n",
            "69                                 561.9845                                5   \n",
            "378                                587.8877                                8   \n",
            "..                                      ...                              ...   \n",
            "255                               5512.0380                                1   \n",
            "72                                 424.5442                                8   \n",
            "396                                918.6357                                1   \n",
            "235                                250.6310                                7   \n",
            "37                                1360.1390                                1   \n",
            "\n",
            "     X5 latitude  \n",
            "274     24.97305  \n",
            "271     24.96945  \n",
            "98      24.98203  \n",
            "69      24.98746  \n",
            "378     24.97077  \n",
            "..           ...  \n",
            "255     24.95095  \n",
            "72      24.97587  \n",
            "396     24.97198  \n",
            "235     24.96606  \n",
            "37      24.95204  \n",
            "\n",
            "[289 rows x 6 columns]\n",
            "The y test data is 388    27.3\n",
            "102    54.4\n",
            "187    22.0\n",
            "162    11.6\n",
            "90     45.4\n",
            "       ... \n",
            "323    42.5\n",
            "73     20.0\n",
            "238    40.6\n",
            "273    29.3\n",
            "364    33.1\n",
            "Name: Y house price of unit area, Length: 125, dtype: float64\n",
            "The y train data is 274    41.0\n",
            "271    26.5\n",
            "98     51.0\n",
            "69     42.0\n",
            "378    37.4\n",
            "       ... \n",
            "255    17.4\n",
            "72     36.3\n",
            "396    31.9\n",
            "235    39.3\n",
            "37     25.3\n",
            "Name: Y house price of unit area, Length: 289, dtype: float64\n"
          ]
        }
      ]
    },
    {
      "cell_type": "code",
      "source": [
        "#Linear regression model\n",
        "import numpy as np\n",
        "from sklearn import linear_model, metrics\n",
        "from sklearn.metrics import mean_absolute_error, mean_squared_error, r2_score\n",
        "reg = linear_model.LinearRegression()\n",
        "reg.fit(x_train, y_train)\n",
        "print(reg.intercept_)\n",
        "print(reg.coef_)"
      ],
      "metadata": {
        "colab": {
          "base_uri": "https://localhost:8080/"
        },
        "id": "faCo026Aaj-h",
        "outputId": "5e5ff1bc-6838-4d0a-a7b8-b16c125c1120"
      },
      "execution_count": 5,
      "outputs": [
        {
          "output_type": "stream",
          "name": "stdout",
          "text": [
            "-13554.112905969461\n",
            "[-4.14457531e-03  4.01041536e+00 -2.29940874e-01 -4.15707004e-03\n",
            "  1.18687380e+00  2.21186165e+02]\n"
          ]
        }
      ]
    },
    {
      "cell_type": "code",
      "source": [
        "#Evaluation metrics of the model \n",
        "y_pred = reg.predict(x_test)\n",
        "print('Model score:',r2_score(y_test,y_pred))\n",
        "print('Mean Absolute Error:', mean_absolute_error(y_test,y_pred))\n",
        "print(\"Mean Sqaured Error\",mean_squared_error(y_test,y_pred))\n",
        "print(\"Root Mean Square Error\",np.sqrt(mean_squared_error(y_test,y_pred)))"
      ],
      "metadata": {
        "colab": {
          "base_uri": "https://localhost:8080/"
        },
        "id": "bj3bkT7lhVGu",
        "outputId": "57a059c9-389d-4163-9ff1-f38c5474036e"
      },
      "execution_count": 6,
      "outputs": [
        {
          "output_type": "stream",
          "name": "stdout",
          "text": [
            "Model score: 0.5418637703855014\n",
            "Mean Absolute Error: 6.217721991701759\n",
            "Mean Sqaured Error 105.56602238347168\n",
            "Root Mean Square Error 10.274532708764506\n"
          ]
        }
      ]
    },
    {
      "cell_type": "markdown",
      "source": [
        "2. Apply PCA on the dataset and select the first three principal components. Split the dataset into train and test using the same method used in Q1. Compare the performance of this model with the performance obtained in Q1.  Explain the outcome."
      ],
      "metadata": {
        "id": "VhYLMSKxjl-Q"
      }
    },
    {
      "cell_type": "code",
      "source": [
        "from sklearn.decomposition import PCA                    \n",
        "pca = PCA(n_components=3)                                \n",
        "PCAcomponents = pca.fit_transform(data)           \n",
        "PCA_data = pd.DataFrame(data = PCAcomponents, columns = ['Principal component 1', 'Principal component 2','Principal component 3']) #create 2 columns \n",
        "print (PCA_data)                                          #print the PCA tranformed data"
      ],
      "metadata": {
        "colab": {
          "base_uri": "https://localhost:8080/"
        },
        "id": "SDgTjGKwjnNY",
        "outputId": "3738ca98-1304-41c4-e9ec-4c7eb18bca0d"
      },
      "execution_count": 7,
      "outputs": [
        {
          "output_type": "stream",
          "name": "stdout",
          "text": [
            "     Principal component 1  Principal component 2  Principal component 3\n",
            "0              -998.715008             207.809541             -16.071270\n",
            "1              -777.039400             206.507890              -2.314907\n",
            "2              -521.690947             205.185151               6.650452\n",
            "3              -521.746713             204.217591              10.661937\n",
            "4              -693.076234             203.358272              10.711690\n",
            "..                     ...                    ...                    ...\n",
            "409            2997.950602            -206.407240               3.481361\n",
            "410            -993.762769            -202.221642              12.586523\n",
            "411            -693.184869            -203.602889              -2.385270\n",
            "412            -979.423678            -204.223246              11.823015\n",
            "413            -993.867389            -205.158592              19.261927\n",
            "\n",
            "[414 rows x 3 columns]\n"
          ]
        }
      ]
    },
    {
      "cell_type": "code",
      "source": [
        "X = PCA_data.iloc[ :, 0:3]                    "
      ],
      "metadata": {
        "id": "n4STG6Fyd7DF"
      },
      "execution_count": 16,
      "outputs": []
    },
    {
      "cell_type": "code",
      "source": [
        "from sklearn.model_selection import train_test_split\n",
        "X_train, X_test, y_train, y_test= train_test_split(X, y, test_size=0.3, random_state=1)\n",
        "print('The x test data is', X_test)\n",
        "print('The x train data is', X_train)\n",
        "print('The y test data is', y_test)\n",
        "print('The y train data is', y_train)"
      ],
      "metadata": {
        "colab": {
          "base_uri": "https://localhost:8080/"
        },
        "id": "x4w9DvjRlFXB",
        "outputId": "d7097ad9-8e10-4733-8972-9705ef00de4a"
      },
      "execution_count": 17,
      "outputs": [
        {
          "output_type": "stream",
          "name": "stdout",
          "text": [
            "The x test data is      Principal component 1  Principal component 2  Principal component 3\n",
            "388            1167.859722            -183.045883               5.192367\n",
            "102            -890.266166             105.646580              19.225665\n",
            "187            1994.379097              16.874681               7.023975\n",
            "162            2982.871818              40.599258              -0.480704\n",
            "90             -809.750825             117.499547              15.614182\n",
            "..                     ...                    ...                    ...\n",
            "323            -886.911078            -115.320475             -10.426188\n",
            "73             2998.353416             129.607899               5.962889\n",
            "238            -351.078279             -31.060913               4.054946\n",
            "273            -913.750977             -65.394591              -4.631483\n",
            "364            -469.902065            -156.867414             -19.407288\n",
            "\n",
            "[125 rows x 3 columns]\n",
            "The x train data is      Principal component 1  Principal component 2  Principal component 3\n",
            "274            -689.960294             -66.580046              -9.465894\n",
            "271            -632.231801             -63.745783              -8.694670\n",
            "98             -794.493732             109.557633               4.863490\n",
            "69             -521.739631             138.160672               4.469129\n",
            "378            -496.203371            -170.808622             -18.896914\n",
            "..                     ...                    ...                    ...\n",
            "255            4428.121352             -54.156555              -4.567343\n",
            "72             -659.138130             135.374016             -16.003321\n",
            "396            -165.438345            -189.255453             -20.404764\n",
            "235            -833.282956             -27.451798               1.383082\n",
            "37              276.560674             169.073273              -0.808868\n",
            "\n",
            "[289 rows x 3 columns]\n",
            "The y test data is 388    27.3\n",
            "102    54.4\n",
            "187    22.0\n",
            "162    11.6\n",
            "90     45.4\n",
            "       ... \n",
            "323    42.5\n",
            "73     20.0\n",
            "238    40.6\n",
            "273    29.3\n",
            "364    33.1\n",
            "Name: Y house price of unit area, Length: 125, dtype: float64\n",
            "The y train data is 274    41.0\n",
            "271    26.5\n",
            "98     51.0\n",
            "69     42.0\n",
            "378    37.4\n",
            "       ... \n",
            "255    17.4\n",
            "72     36.3\n",
            "396    31.9\n",
            "235    39.3\n",
            "37     25.3\n",
            "Name: Y house price of unit area, Length: 289, dtype: float64\n"
          ]
        }
      ]
    },
    {
      "cell_type": "code",
      "source": [
        "#Linear regression model\n",
        "import numpy as np\n",
        "from sklearn import linear_model, metrics\n",
        "from sklearn.metrics import mean_absolute_error, mean_squared_error, r2_score\n",
        "reg = linear_model.LinearRegression()\n",
        "reg.fit(X_train, y_train)\n",
        "print(reg.intercept_)\n",
        "print(reg.coef_)"
      ],
      "metadata": {
        "colab": {
          "base_uri": "https://localhost:8080/"
        },
        "id": "IDGbscBilUaB",
        "outputId": "2280d585-87ff-4eaa-8564-f78d4e211c77"
      },
      "execution_count": 18,
      "outputs": [
        {
          "output_type": "stream",
          "name": "stdout",
          "text": [
            "37.97567522078215\n",
            "[-0.00699653  0.00704049  0.48993709]\n"
          ]
        }
      ]
    },
    {
      "cell_type": "code",
      "source": [
        "#Evaluation metrics of the model \n",
        "y_pred = reg.predict(X_test)\n",
        "print('Model score:',r2_score(y_test,y_pred))\n",
        "print('Mean Absolute Error:', mean_absolute_error(y_test,y_pred))\n",
        "print(\"Mean Sqaured Error\",mean_squared_error(y_test,y_pred))\n",
        "print(\"Root Mean Square Error\",np.sqrt(mean_squared_error(y_test,y_pred)))"
      ],
      "metadata": {
        "colab": {
          "base_uri": "https://localhost:8080/"
        },
        "id": "Qodgy0fylYS_",
        "outputId": "65a1cabb-8572-47ea-8c04-6567fa5ae8b4"
      },
      "execution_count": 19,
      "outputs": [
        {
          "output_type": "stream",
          "name": "stdout",
          "text": [
            "Model score: 0.6931905117396181\n",
            "Mean Absolute Error: 5.378866007455649\n",
            "Mean Sqaured Error 70.69656406001897\n",
            "Root Mean Square Error 8.408124883707364\n"
          ]
        }
      ]
    },
    {
      "cell_type": "markdown",
      "source": [
        "The model performance has improved after applying PCA to the dataset. "
      ],
      "metadata": {
        "id": "iCANz6X2e-4A"
      }
    },
    {
      "cell_type": "markdown",
      "source": [
        "3. Load \"IRIS \" datasets from SKlearn and follow this link for the data description (features and target variable). Apply PCA on the dataset and select the first three principal components. Split the dataset in train and test set (use your choice of splitting). Train a logistic regression model and report the performance (use your choice of at least 4 performance metric)."
      ],
      "metadata": {
        "id": "MYfwM7YAfJyZ"
      }
    },
    {
      "cell_type": "code",
      "source": [
        "from sklearn.datasets import load_iris\n",
        "dataset = load_iris()\n",
        "x = dataset['data']\n",
        "Y = dataset['target']\n",
        "print(x.shape, Y.shape) "
      ],
      "metadata": {
        "colab": {
          "base_uri": "https://localhost:8080/"
        },
        "id": "QbmD1Y8ThO0a",
        "outputId": "75f95928-42a1-4818-bd19-4d3be6b3ce3b"
      },
      "execution_count": 29,
      "outputs": [
        {
          "output_type": "stream",
          "name": "stdout",
          "text": [
            "(150, 4) (150,)\n"
          ]
        }
      ]
    },
    {
      "cell_type": "code",
      "source": [
        "from sklearn.decomposition import PCA                    \n",
        "pca = PCA(n_components=3)                                \n",
        "PCAcomponents = pca.fit_transform(x)           \n",
        "x = pd.DataFrame(data = PCAcomponents, columns = ['Principal component 1', 'Principal component 2','Principal component 3']) #create 2 columns \n",
        "print (x)                                          #print the PCA tranformed data"
      ],
      "metadata": {
        "colab": {
          "base_uri": "https://localhost:8080/"
        },
        "id": "8ZxFsvCshXEp",
        "outputId": "18d73b41-0b41-4e4f-81f3-74be34fde884"
      },
      "execution_count": 32,
      "outputs": [
        {
          "output_type": "stream",
          "name": "stdout",
          "text": [
            "     Principal component 1  Principal component 2  Principal component 3\n",
            "0                -2.684126               0.319397              -0.027915\n",
            "1                -2.714142              -0.177001              -0.210464\n",
            "2                -2.888991              -0.144949               0.017900\n",
            "3                -2.745343              -0.318299               0.031559\n",
            "4                -2.728717               0.326755               0.090079\n",
            "..                     ...                    ...                    ...\n",
            "145               1.944110               0.187532               0.177825\n",
            "146               1.527167              -0.375317              -0.121898\n",
            "147               1.764346               0.078859               0.130482\n",
            "148               1.900942               0.116628               0.723252\n",
            "149               1.390189              -0.282661               0.362910\n",
            "\n",
            "[150 rows x 3 columns]\n"
          ]
        }
      ]
    },
    {
      "cell_type": "code",
      "source": [
        "from sklearn.model_selection import train_test_split\n",
        "x_train, x_test, Y_train, Y_test= train_test_split(x, Y, test_size=0.3, random_state=1)\n",
        "print('The x test data is', x_test)\n",
        "print('The x train data is', x_train)\n",
        "print('The y test data is', Y_test)\n",
        "print('The y train data is', Y_train)"
      ],
      "metadata": {
        "colab": {
          "base_uri": "https://localhost:8080/"
        },
        "id": "P2aDF0NZi7bQ",
        "outputId": "3766d2aa-6d3e-4dc5-c748-62d64ad9add4"
      },
      "execution_count": 33,
      "outputs": [
        {
          "output_type": "stream",
          "name": "stdout",
          "text": [
            "The x test data is      Principal component 1  Principal component 2  Principal component 3\n",
            "14               -2.644750               1.178765              -0.151628\n",
            "98               -0.906470              -0.756093              -0.012600\n",
            "75                0.900174               0.328504              -0.316209\n",
            "16               -2.623528               0.810680               0.138183\n",
            "131               3.230674               1.374165              -0.114548\n",
            "56                1.095061               0.283468               0.169810\n",
            "141               1.922268               0.409203               0.113587\n",
            "44               -2.209489               0.436663               0.298743\n",
            "29               -2.631989              -0.196961               0.040771\n",
            "120               2.427818               0.378196               0.219119\n",
            "94                0.356981              -0.504910               0.016617\n",
            "5                -2.280860               0.741330               0.168678\n",
            "102               2.616676               0.343903              -0.110788\n",
            "51                0.932489               0.318334              -0.018014\n",
            "78                0.813291              -0.163350               0.035425\n",
            "42               -2.997407              -0.341926               0.192509\n",
            "92                0.230548              -0.404386              -0.229410\n",
            "66                0.660284              -0.352970               0.328028\n",
            "31               -2.409932               0.410924              -0.145525\n",
            "35               -2.866242               0.069364              -0.164332\n",
            "90                0.464800              -0.670712              -0.024307\n",
            "84                0.588006              -0.484287               0.444433\n",
            "77                1.557802               0.267495              -0.164921\n",
            "40               -2.770102               0.263528               0.077248\n",
            "125               2.614090               0.560901              -0.205535\n",
            "99                0.299001              -0.348898               0.010582\n",
            "33               -2.598737               1.093146               0.157811\n",
            "19               -2.587986               0.513560               0.213665\n",
            "73                0.921729              -0.182738              -0.231072\n",
            "146               1.527167              -0.375317              -0.121898\n",
            "91                0.890815              -0.034464              -0.009947\n",
            "135               3.076500               0.688086              -0.335592\n",
            "69                0.045227              -0.583834              -0.235002\n",
            "128               2.123609              -0.209729               0.154180\n",
            "114               1.585928              -0.539641               0.629029\n",
            "48               -2.543086               0.579410              -0.017115\n",
            "53                0.183318              -0.827959              -0.179591\n",
            "28               -2.639535               0.312040              -0.145909\n",
            "54                1.088103               0.074591              -0.307758\n",
            "108               2.321229              -0.243832              -0.348304\n",
            "112               2.165592               0.216276               0.033327\n",
            "17               -2.648297               0.311849               0.026668\n",
            "119               1.300792              -0.761150              -0.344995\n",
            "103               1.971531              -0.179728               0.108425\n",
            "58                1.044132               0.228362              -0.415336\n",
            "The x train data is      Principal component 1  Principal component 2  Principal component 3\n",
            "118               3.795645               0.257323              -0.513768\n",
            "18               -2.199820               0.872839              -0.120306\n",
            "4                -2.728717               0.326755               0.090079\n",
            "45               -2.714451              -0.250208              -0.097678\n",
            "59               -0.008745              -0.723082               0.281141\n",
            "..                     ...                    ...                    ...\n",
            "133               1.444161              -0.143413              -0.153234\n",
            "137               1.905098               0.049301               0.162180\n",
            "72                1.298184              -0.327787              -0.347854\n",
            "140               2.314155               0.183651               0.322694\n",
            "37               -2.800684               0.268644               0.093699\n",
            "\n",
            "[105 rows x 3 columns]\n",
            "The y test data is [0 1 1 0 2 1 2 0 0 2 1 0 2 1 1 0 1 1 0 0 1 1 1 0 2 1 0 0 1 2 1 2 1 2 2 0 1\n",
            " 0 1 2 2 0 2 2 1]\n",
            "The y train data is [2 0 0 0 1 0 0 2 2 2 2 2 1 2 1 0 2 2 0 0 2 0 2 2 1 1 2 2 0 1 1 2 1 2 1 0 0\n",
            " 0 2 0 1 2 2 0 0 1 0 2 1 2 2 1 2 2 1 0 1 0 1 1 0 1 0 0 2 2 2 0 0 1 0 2 0 2\n",
            " 2 0 2 0 1 0 1 1 0 0 1 0 1 1 0 1 1 1 1 2 0 0 2 1 2 1 2 2 1 2 0]\n"
          ]
        }
      ]
    },
    {
      "cell_type": "code",
      "source": [
        "#Logistic Regression model   \n",
        "from sklearn.linear_model import LogisticRegression  \n",
        "from sklearn.metrics import accuracy_score, zero_one_loss,precision_score,confusion_matrix, recall_score, f1_score\n",
        "np.random.seed( )\n",
        "lr_clf = LogisticRegression()                                                                      \n",
        "lr_clf.fit(x_train,Y_train)                                                                        \n",
        "predict_lr = lr_clf.predict(x_test)\n",
        "print('Accuracy value:',round(accuracy_score(Y_test, predict_lr),3)*100)                                \n",
        "print('Error value:',round(zero_one_loss(Y_test, predict_lr),3)*100)                                    \n",
        "print('F-score value:',round(f1_score(Y_test,predict_lr,average='weighted'),3)*100)                     \n",
        "print('Recall value:', round(recall_score(Y_test, predict_lr, average='weighted'),3)*100)               \n",
        "print('Precision score:',round(precision_score(Y_test,predict_lr,average='weighted'),3)*100)      "
      ],
      "metadata": {
        "colab": {
          "base_uri": "https://localhost:8080/"
        },
        "id": "SGRb5j5tjmKO",
        "outputId": "4066d564-8191-495c-ffbc-abf05e8b81f4"
      },
      "execution_count": 46,
      "outputs": [
        {
          "output_type": "stream",
          "name": "stdout",
          "text": [
            "Accuracy value: 97.8\n",
            "Error value: 2.1999999999999997\n",
            "F-score value: 97.8\n",
            "Recall value: 97.8\n",
            "Precision score: 97.89999999999999\n"
          ]
        }
      ]
    },
    {
      "cell_type": "markdown",
      "source": [
        "4. Apply L1 or L2 regulariser on the logistic regression model developed using the same train and test data used in Q3 and calculate performance of the new model. Compare performance of this model with the performance reported in Q3. Explain the outcome."
      ],
      "metadata": {
        "id": "eDrCFeGenGBz"
      }
    },
    {
      "cell_type": "code",
      "source": [
        "regularized_lr=LogisticRegression(penalty='l2',solver='newton-cg',max_iter=42)\n",
        "regularized_lr.fit(x_train,Y_train)\n",
        "reg_pred=regularized_lr.predict(x_test)\n",
        "print('Accuracy value:',round(accuracy_score(Y_test, reg_pred),3)*100)                                \n",
        "print('Error value:',round(zero_one_loss(Y_test, reg_pred),3)*100)                                    \n",
        "print('F-score value:',round(f1_score(Y_test,reg_pred,average='weighted'),3)*100)                     \n",
        "print('Recall value:', round(recall_score(Y_test, reg_pred, average='weighted'),3)*100)               \n",
        "print('Precision score:',round(precision_score(Y_test,reg_pred,average='weighted'),3)*100)      "
      ],
      "metadata": {
        "colab": {
          "base_uri": "https://localhost:8080/"
        },
        "id": "CmaK8a1xnHbo",
        "outputId": "d537566d-160b-4877-d4c7-5dfa31e29f15"
      },
      "execution_count": 47,
      "outputs": [
        {
          "output_type": "stream",
          "name": "stdout",
          "text": [
            "Accuracy value: 97.8\n",
            "Error value: 2.1999999999999997\n",
            "F-score value: 97.8\n",
            "Recall value: 97.8\n",
            "Precision score: 97.89999999999999\n"
          ]
        }
      ]
    },
    {
      "cell_type": "markdown",
      "source": [
        "The outcome remains the same after applying L2 regularization on the logistic model. "
      ],
      "metadata": {
        "id": "cXKSZWDUvFmj"
      }
    }
  ]
}