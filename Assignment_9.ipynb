{
  "nbformat": 4,
  "nbformat_minor": 0,
  "metadata": {
    "colab": {
      "provenance": []
    },
    "kernelspec": {
      "name": "python3",
      "display_name": "Python 3"
    },
    "language_info": {
      "name": "python"
    }
  },
  "cells": [
    {
      "cell_type": "markdown",
      "source": [
        "ASSIGNMENT 9"
      ],
      "metadata": {
        "id": "6Uf2yIN9t-eh"
      }
    },
    {
      "cell_type": "markdown",
      "source": [
        "1. Load HR-Employee-Attrition.csv dataset and create an ensemble ML model for predicting target variable (Attrition). Report the performance of the model using appropriate metrics."
      ],
      "metadata": {
        "id": "9sYzz_I0uCDA"
      }
    },
    {
      "cell_type": "code",
      "execution_count": 2,
      "metadata": {
        "colab": {
          "base_uri": "https://localhost:8080/",
          "height": 74
        },
        "id": "-sjx-7bFt9zV",
        "outputId": "ede59c1f-9947-4791-e679-e6b82ce9736a"
      },
      "outputs": [
        {
          "output_type": "display_data",
          "data": {
            "text/plain": [
              "<IPython.core.display.HTML object>"
            ],
            "text/html": [
              "\n",
              "     <input type=\"file\" id=\"files-14ce7d2d-0e1d-4d19-9897-3c02f5bcab01\" name=\"files[]\" multiple disabled\n",
              "        style=\"border:none\" />\n",
              "     <output id=\"result-14ce7d2d-0e1d-4d19-9897-3c02f5bcab01\">\n",
              "      Upload widget is only available when the cell has been executed in the\n",
              "      current browser session. Please rerun this cell to enable.\n",
              "      </output>\n",
              "      <script>// Copyright 2017 Google LLC\n",
              "//\n",
              "// Licensed under the Apache License, Version 2.0 (the \"License\");\n",
              "// you may not use this file except in compliance with the License.\n",
              "// You may obtain a copy of the License at\n",
              "//\n",
              "//      http://www.apache.org/licenses/LICENSE-2.0\n",
              "//\n",
              "// Unless required by applicable law or agreed to in writing, software\n",
              "// distributed under the License is distributed on an \"AS IS\" BASIS,\n",
              "// WITHOUT WARRANTIES OR CONDITIONS OF ANY KIND, either express or implied.\n",
              "// See the License for the specific language governing permissions and\n",
              "// limitations under the License.\n",
              "\n",
              "/**\n",
              " * @fileoverview Helpers for google.colab Python module.\n",
              " */\n",
              "(function(scope) {\n",
              "function span(text, styleAttributes = {}) {\n",
              "  const element = document.createElement('span');\n",
              "  element.textContent = text;\n",
              "  for (const key of Object.keys(styleAttributes)) {\n",
              "    element.style[key] = styleAttributes[key];\n",
              "  }\n",
              "  return element;\n",
              "}\n",
              "\n",
              "// Max number of bytes which will be uploaded at a time.\n",
              "const MAX_PAYLOAD_SIZE = 100 * 1024;\n",
              "\n",
              "function _uploadFiles(inputId, outputId) {\n",
              "  const steps = uploadFilesStep(inputId, outputId);\n",
              "  const outputElement = document.getElementById(outputId);\n",
              "  // Cache steps on the outputElement to make it available for the next call\n",
              "  // to uploadFilesContinue from Python.\n",
              "  outputElement.steps = steps;\n",
              "\n",
              "  return _uploadFilesContinue(outputId);\n",
              "}\n",
              "\n",
              "// This is roughly an async generator (not supported in the browser yet),\n",
              "// where there are multiple asynchronous steps and the Python side is going\n",
              "// to poll for completion of each step.\n",
              "// This uses a Promise to block the python side on completion of each step,\n",
              "// then passes the result of the previous step as the input to the next step.\n",
              "function _uploadFilesContinue(outputId) {\n",
              "  const outputElement = document.getElementById(outputId);\n",
              "  const steps = outputElement.steps;\n",
              "\n",
              "  const next = steps.next(outputElement.lastPromiseValue);\n",
              "  return Promise.resolve(next.value.promise).then((value) => {\n",
              "    // Cache the last promise value to make it available to the next\n",
              "    // step of the generator.\n",
              "    outputElement.lastPromiseValue = value;\n",
              "    return next.value.response;\n",
              "  });\n",
              "}\n",
              "\n",
              "/**\n",
              " * Generator function which is called between each async step of the upload\n",
              " * process.\n",
              " * @param {string} inputId Element ID of the input file picker element.\n",
              " * @param {string} outputId Element ID of the output display.\n",
              " * @return {!Iterable<!Object>} Iterable of next steps.\n",
              " */\n",
              "function* uploadFilesStep(inputId, outputId) {\n",
              "  const inputElement = document.getElementById(inputId);\n",
              "  inputElement.disabled = false;\n",
              "\n",
              "  const outputElement = document.getElementById(outputId);\n",
              "  outputElement.innerHTML = '';\n",
              "\n",
              "  const pickedPromise = new Promise((resolve) => {\n",
              "    inputElement.addEventListener('change', (e) => {\n",
              "      resolve(e.target.files);\n",
              "    });\n",
              "  });\n",
              "\n",
              "  const cancel = document.createElement('button');\n",
              "  inputElement.parentElement.appendChild(cancel);\n",
              "  cancel.textContent = 'Cancel upload';\n",
              "  const cancelPromise = new Promise((resolve) => {\n",
              "    cancel.onclick = () => {\n",
              "      resolve(null);\n",
              "    };\n",
              "  });\n",
              "\n",
              "  // Wait for the user to pick the files.\n",
              "  const files = yield {\n",
              "    promise: Promise.race([pickedPromise, cancelPromise]),\n",
              "    response: {\n",
              "      action: 'starting',\n",
              "    }\n",
              "  };\n",
              "\n",
              "  cancel.remove();\n",
              "\n",
              "  // Disable the input element since further picks are not allowed.\n",
              "  inputElement.disabled = true;\n",
              "\n",
              "  if (!files) {\n",
              "    return {\n",
              "      response: {\n",
              "        action: 'complete',\n",
              "      }\n",
              "    };\n",
              "  }\n",
              "\n",
              "  for (const file of files) {\n",
              "    const li = document.createElement('li');\n",
              "    li.append(span(file.name, {fontWeight: 'bold'}));\n",
              "    li.append(span(\n",
              "        `(${file.type || 'n/a'}) - ${file.size} bytes, ` +\n",
              "        `last modified: ${\n",
              "            file.lastModifiedDate ? file.lastModifiedDate.toLocaleDateString() :\n",
              "                                    'n/a'} - `));\n",
              "    const percent = span('0% done');\n",
              "    li.appendChild(percent);\n",
              "\n",
              "    outputElement.appendChild(li);\n",
              "\n",
              "    const fileDataPromise = new Promise((resolve) => {\n",
              "      const reader = new FileReader();\n",
              "      reader.onload = (e) => {\n",
              "        resolve(e.target.result);\n",
              "      };\n",
              "      reader.readAsArrayBuffer(file);\n",
              "    });\n",
              "    // Wait for the data to be ready.\n",
              "    let fileData = yield {\n",
              "      promise: fileDataPromise,\n",
              "      response: {\n",
              "        action: 'continue',\n",
              "      }\n",
              "    };\n",
              "\n",
              "    // Use a chunked sending to avoid message size limits. See b/62115660.\n",
              "    let position = 0;\n",
              "    do {\n",
              "      const length = Math.min(fileData.byteLength - position, MAX_PAYLOAD_SIZE);\n",
              "      const chunk = new Uint8Array(fileData, position, length);\n",
              "      position += length;\n",
              "\n",
              "      const base64 = btoa(String.fromCharCode.apply(null, chunk));\n",
              "      yield {\n",
              "        response: {\n",
              "          action: 'append',\n",
              "          file: file.name,\n",
              "          data: base64,\n",
              "        },\n",
              "      };\n",
              "\n",
              "      let percentDone = fileData.byteLength === 0 ?\n",
              "          100 :\n",
              "          Math.round((position / fileData.byteLength) * 100);\n",
              "      percent.textContent = `${percentDone}% done`;\n",
              "\n",
              "    } while (position < fileData.byteLength);\n",
              "  }\n",
              "\n",
              "  // All done.\n",
              "  yield {\n",
              "    response: {\n",
              "      action: 'complete',\n",
              "    }\n",
              "  };\n",
              "}\n",
              "\n",
              "scope.google = scope.google || {};\n",
              "scope.google.colab = scope.google.colab || {};\n",
              "scope.google.colab._files = {\n",
              "  _uploadFiles,\n",
              "  _uploadFilesContinue,\n",
              "};\n",
              "})(self);\n",
              "</script> "
            ]
          },
          "metadata": {}
        },
        {
          "output_type": "stream",
          "name": "stdout",
          "text": [
            "Saving HR-Employee-Attrition.csv to HR-Employee-Attrition (7).csv\n"
          ]
        }
      ],
      "source": [
        "#Import the dataset to google colab\n",
        "import pandas as pd\n",
        "from google.colab import files\n",
        "import io\n",
        "uploaded = files.upload()                                                    #upload files \n",
        "data = pd.read_csv(io.BytesIO(uploaded['HR-Employee-Attrition.csv']))        #read the dataset"
      ]
    },
    {
      "cell_type": "code",
      "source": [
        "data.dtypes"
      ],
      "metadata": {
        "colab": {
          "base_uri": "https://localhost:8080/"
        },
        "id": "tZChEx1pE9Es",
        "outputId": "3b29e101-2d59-416e-e5e7-22deab4c66ee"
      },
      "execution_count": 3,
      "outputs": [
        {
          "output_type": "execute_result",
          "data": {
            "text/plain": [
              "Age                          int64\n",
              "Attrition                   object\n",
              "BusinessTravel              object\n",
              "DailyRate                    int64\n",
              "Department                  object\n",
              "DistanceFromHome             int64\n",
              "Education                    int64\n",
              "EducationField              object\n",
              "EmployeeCount                int64\n",
              "EmployeeNumber               int64\n",
              "EnvironmentSatisfaction      int64\n",
              "Gender                      object\n",
              "HourlyRate                   int64\n",
              "JobInvolvement               int64\n",
              "JobLevel                     int64\n",
              "JobRole                     object\n",
              "JobSatisfaction              int64\n",
              "MaritalStatus               object\n",
              "MonthlyIncome                int64\n",
              "MonthlyRate                  int64\n",
              "NumCompaniesWorked           int64\n",
              "Over18                      object\n",
              "OverTime                    object\n",
              "PercentSalaryHike            int64\n",
              "PerformanceRating            int64\n",
              "RelationshipSatisfaction     int64\n",
              "StandardHours                int64\n",
              "StockOptionLevel             int64\n",
              "TotalWorkingYears            int64\n",
              "TrainingTimesLastYear        int64\n",
              "WorkLifeBalance              int64\n",
              "YearsAtCompany               int64\n",
              "YearsInCurrentRole           int64\n",
              "YearsSinceLastPromotion      int64\n",
              "YearsWithCurrManager         int64\n",
              "dtype: object"
            ]
          },
          "metadata": {},
          "execution_count": 3
        }
      ]
    },
    {
      "cell_type": "code",
      "source": [
        "data['Department'] = data.Department.astype(bool)                                           \n",
        "data['Gender'] = data.Gender.astype(bool) \n",
        "data['OverTime'] = data.OverTime.astype(bool)     \n",
        "data['Attrition'] = data.Attrition.astype(bool)  \n",
        "data.dtypes                                                                                 #Print the datatypes"
      ],
      "metadata": {
        "colab": {
          "base_uri": "https://localhost:8080/"
        },
        "id": "7CEjExH2FLlU",
        "outputId": "e69615b2-2343-46b8-87a0-e46cb8016f72"
      },
      "execution_count": 4,
      "outputs": [
        {
          "output_type": "execute_result",
          "data": {
            "text/plain": [
              "Age                          int64\n",
              "Attrition                     bool\n",
              "BusinessTravel              object\n",
              "DailyRate                    int64\n",
              "Department                    bool\n",
              "DistanceFromHome             int64\n",
              "Education                    int64\n",
              "EducationField              object\n",
              "EmployeeCount                int64\n",
              "EmployeeNumber               int64\n",
              "EnvironmentSatisfaction      int64\n",
              "Gender                        bool\n",
              "HourlyRate                   int64\n",
              "JobInvolvement               int64\n",
              "JobLevel                     int64\n",
              "JobRole                     object\n",
              "JobSatisfaction              int64\n",
              "MaritalStatus               object\n",
              "MonthlyIncome                int64\n",
              "MonthlyRate                  int64\n",
              "NumCompaniesWorked           int64\n",
              "Over18                      object\n",
              "OverTime                      bool\n",
              "PercentSalaryHike            int64\n",
              "PerformanceRating            int64\n",
              "RelationshipSatisfaction     int64\n",
              "StandardHours                int64\n",
              "StockOptionLevel             int64\n",
              "TotalWorkingYears            int64\n",
              "TrainingTimesLastYear        int64\n",
              "WorkLifeBalance              int64\n",
              "YearsAtCompany               int64\n",
              "YearsInCurrentRole           int64\n",
              "YearsSinceLastPromotion      int64\n",
              "YearsWithCurrManager         int64\n",
              "dtype: object"
            ]
          },
          "metadata": {},
          "execution_count": 4
        }
      ]
    },
    {
      "cell_type": "code",
      "source": [
        "#####Convert the columns of the dataset######\n",
        "data['Department']= data['Department'].map({'Sales': '1', 'Research & Development': '0'})        #Convert response column\n",
        "data['Gender'] = data['Gender'].map({'Male': '1', 'Female': '0'})              \n",
        "data['OverTime'] = data['OverTime'].map({'Yes': '1', 'No': '0'}) \n",
        "data['Attrition'] = data['Attrition'].map({'Yes': '1', 'No': '0'})                                                          "
      ],
      "metadata": {
        "id": "DDZey6hyEcxx"
      },
      "execution_count": 5,
      "outputs": []
    },
    {
      "cell_type": "code",
      "source": [
        "from sklearn.preprocessing import OneHotEncoder      \n",
        "enc = OneHotEncoder()                                \n",
        "data = enc.fit_transform(data).toarray()    "
      ],
      "metadata": {
        "id": "i02XPDmsUUcF"
      },
      "execution_count": 8,
      "outputs": []
    },
    {
      "cell_type": "code",
      "source": [
        "X = data[:, [0,2,3,4,5,6,7,8,9,10,11,12,13,14,15,16,17,18,19,20,21,22,23,24,25,26,27,28,29,30,31,32,33,34]]           \n",
        "Y = data[:, 1]                                                           "
      ],
      "metadata": {
        "id": "BmA-lngBYR9m"
      },
      "execution_count": 9,
      "outputs": []
    },
    {
      "cell_type": "code",
      "source": [
        "from sklearn.model_selection import train_test_split                         \n",
        "X_train, X_test, Y_train, Y_test = train_test_split(X, Y, test_size=0.20)    "
      ],
      "metadata": {
        "id": "NJUPG0zLBBVM"
      },
      "execution_count": 10,
      "outputs": []
    },
    {
      "cell_type": "code",
      "source": [
        "import numpy as np\n",
        "from sklearn.metrics import  accuracy_score, zero_one_loss,precision_score,confusion_matrix, recall_score, f1_score\n",
        "from sklearn.ensemble import AdaBoostClassifier \n",
        "model = AdaBoostClassifier(n_estimators=10,learning_rate=0.1 ,random_state=42)             \n",
        "model.fit(X_train, Y_train)                                                           \n",
        "predict = model.predict(X_test) \n",
        "print('Accuracy:',round(accuracy_score(Y_test, predict),4)*100)                                #Calculate Accuracy score\n",
        "print('Error:',round(zero_one_loss(Y_test, predict),4)*100)                                    #Calculate Error Score\n",
        "print('F-score:',round(f1_score(Y_test,predict,average='weighted'),4)*100)                     #Calculate F_score value\n",
        "print('Recall:', round(recall_score(Y_test, predict, average='weighted'),4)*100)               #Calculate Recall value"
      ],
      "metadata": {
        "colab": {
          "base_uri": "https://localhost:8080/"
        },
        "id": "M10VroY2_6iU",
        "outputId": "e8e9c6db-43ca-435e-bb88-e78b20729f04"
      },
      "execution_count": 21,
      "outputs": [
        {
          "output_type": "stream",
          "name": "stdout",
          "text": [
            "Accuracy: 99.66000000000001\n",
            "Error: 0.33999999999999997\n",
            "F-score: 99.49\n",
            "Recall: 99.66000000000001\n"
          ]
        }
      ]
    },
    {
      "cell_type": "markdown",
      "source": [
        "2. Have you used any hyperparameter tuning while building the model in Q1? If so then plot your performance metrics for different hyperparmeter values that you have used in Q1.  \n",
        "I have not used hyper parameter tuning in Q1. "
      ],
      "metadata": {
        "id": "KUiBKyjifh_6"
      }
    },
    {
      "cell_type": "markdown",
      "source": [
        "3. Reflect on the importance of hyperparameter tuning of ML models based on your ML model development exercise. \n",
        "Hyperparameter tuning is important factor while designing an Machine learning model. The parameters decide the model performance and accuracy rate. I have used different hyperparameter modelling technique ion my previous task which shows that model performance is directly proportional to parameter tuning. "
      ],
      "metadata": {
        "id": "X15puh70fpz_"
      }
    },
    {
      "cell_type": "markdown",
      "source": [
        "4. Create a GradientBoost model for the predicting Attrition using the same dataset that you have used Q1 and report the performance."
      ],
      "metadata": {
        "id": "gEfXkz9CgQCH"
      }
    },
    {
      "cell_type": "code",
      "source": [
        "x = data[:, [0,2,3,4,5,6,7,8,9,10,11,12,13,14,15,16,17,18,19,20,21,22,23,24,25,26,27,28,29,30,31,32,33,34]]           \n",
        "y = data[:, 1]                                                           "
      ],
      "metadata": {
        "id": "TerTAYuHiRFj"
      },
      "execution_count": 24,
      "outputs": []
    },
    {
      "cell_type": "code",
      "source": [
        "from sklearn.model_selection import train_test_split                         \n",
        "x_train, x_test, y_train, y_test = train_test_split(X, Y, test_size=0.20)    "
      ],
      "metadata": {
        "id": "OipDKaFviW3_"
      },
      "execution_count": 25,
      "outputs": []
    },
    {
      "cell_type": "code",
      "source": [
        "#Gradient Boosting model\n",
        "from xgboost import XGBClassifier \n",
        "grad = XGBClassifier(learning_rate =1,max_depth=2,objective= 'binary:logistic',nthread=2)\n",
        "grad.fit(x_train, y_train)  \n",
        "pred_y = grad.predict(x_test)\n",
        "print('Accuracy:',round(accuracy_score(y_test, pred_y),4)*100)                                #Calculate Accuracy score\n",
        "print('Error:',round(zero_one_loss(y_test, pred_y),4)*100)                                    #Calculate Error Score\n",
        "print('F-score:',round(f1_score(y_test,pred_y,average='weighted'),4)*100)                     #Calculate F_score value\n",
        "print('Recall:', round(recall_score(y_test, pred_y, average='weighted'),4)*100)               #Calculate Recall value\n"
      ],
      "metadata": {
        "colab": {
          "base_uri": "https://localhost:8080/"
        },
        "id": "reiRamGlgUBC",
        "outputId": "c9b3c860-831d-4ce5-8d2c-13619e1f53de"
      },
      "execution_count": 26,
      "outputs": [
        {
          "output_type": "stream",
          "name": "stdout",
          "text": [
            "Accuracy: 98.3\n",
            "Error: 1.7000000000000002\n",
            "F-score: 97.46000000000001\n",
            "Recall: 98.3\n"
          ]
        }
      ]
    },
    {
      "cell_type": "markdown",
      "source": [
        "5. Compare the performance of two models (Q1 and Q3). Explain which model is good and why.\n",
        "\n",
        "The Adaboost Boost classifier has better model performance as compared to Gradient boost classifier. The model accuracy rate of Adaboost classifier is 99.6% whereas the accuracy rate of Gradient boost classifier is 98.3%.\n",
        "Adaboost classifier minimizes the loss function making the model performance better. "
      ],
      "metadata": {
        "id": "Hb2xrwqIg9Sz"
      }
    }
  ]
}