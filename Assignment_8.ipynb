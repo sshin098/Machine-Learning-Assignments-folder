{
  "nbformat": 4,
  "nbformat_minor": 0,
  "metadata": {
    "colab": {
      "provenance": []
    },
    "kernelspec": {
      "name": "python3",
      "display_name": "Python 3"
    },
    "language_info": {
      "name": "python"
    }
  },
  "cells": [
    {
      "cell_type": "markdown",
      "source": [
        "ASSIGNMENT- 8"
      ],
      "metadata": {
        "id": "pRjWJvdJocm6"
      }
    },
    {
      "cell_type": "markdown",
      "source": [
        "1. Load \"digits\" datasets from SKlearn. Classify digit classes using KNN. Use the same data splitting and performance metrics that you have used in previous week (week 7). Report your findings including comparison of results with week 7. \n"
      ],
      "metadata": {
        "id": "aq6zt02YohrO"
      }
    },
    {
      "cell_type": "code",
      "execution_count": 29,
      "metadata": {
        "colab": {
          "base_uri": "https://localhost:8080/"
        },
        "id": "-CuoiLX6ocC5",
        "outputId": "2c6d849d-8947-4486-a120-1179f9150023"
      },
      "outputs": [
        {
          "output_type": "stream",
          "name": "stdout",
          "text": [
            "(1797, 64) (1797,)\n"
          ]
        }
      ],
      "source": [
        "from sklearn.datasets import load_digits\n",
        "from sklearn.metrics import mean_absolute_error, mean_squared_error, r2_score\n",
        "import pandas as pd\n",
        "dataset = load_digits()\n",
        "x = dataset['data']\n",
        "y = dataset['target']\n",
        "print(x.shape, y.shape)             #printing shapes"
      ]
    },
    {
      "cell_type": "code",
      "source": [
        "from sklearn.model_selection import train_test_split \n",
        "x_train, x_test, y_train, y_test = train_test_split(x, y, test_size=0.2,random_state=1)"
      ],
      "metadata": {
        "id": "PnR5BKD6ug5l"
      },
      "execution_count": 30,
      "outputs": []
    },
    {
      "cell_type": "code",
      "source": [
        "import numpy as np \n",
        "from sklearn.neighbors import KNeighborsClassifier                #import K-nearest classifier package\n",
        "knn = KNeighborsClassifier(n_neighbors = 2, weights = 'uniform',metric = 'minkowski')        #Classification of model\n",
        "knn.fit(x_train, y_train)                                                                    #Fitting the train data\n",
        "y_predict = knn.predict(x_test) \n",
        "print('Model score:',r2_score(y_test,y_predict))\n",
        "print('Mean Absolute Error:', mean_absolute_error(y_test,y_predict))\n",
        "print(\"Mean Sqaured Error\",mean_squared_error(y_test,y_predict))\n",
        "print(\"Root Mean Square Error\",np.sqrt(mean_squared_error(y_test,y_predict)))"
      ],
      "metadata": {
        "colab": {
          "base_uri": "https://localhost:8080/"
        },
        "id": "UpgPdjrevCUw",
        "outputId": "1beb8646-512d-48a7-9183-06ffc3a89a5c"
      },
      "execution_count": 31,
      "outputs": [
        {
          "output_type": "stream",
          "name": "stdout",
          "text": [
            "Model score: 0.970121946102005\n",
            "Mean Absolute Error: 0.041666666666666664\n",
            "Mean Sqaured Error 0.24722222222222223\n",
            "Root Mean Square Error 0.49721446300587663\n"
          ]
        }
      ]
    },
    {
      "cell_type": "markdown",
      "source": [
        "The model comparsion of SVM- rbf kernel with KNN model shows that:\n",
        "The model performance of KNN is better as compared to SVM classifier. The accuracy score of SVM model is 49.6% whereas the accuracy score of KNN model is 97%. "
      ],
      "metadata": {
        "id": "LElVdxnavu83"
      }
    },
    {
      "cell_type": "markdown",
      "source": [
        "2. Create digits classification model using DT algorithm using 50-50% and 70-30% data splitting methods. Compare performances of these two models and explain impact of difference in data splitting on the performances of the model."
      ],
      "metadata": {
        "id": "HkXJKHlbwlsz"
      }
    },
    {
      "cell_type": "code",
      "source": [
        "#Spliting data in 50-50% test and train data\n",
        "np.random.seed(42)\n",
        "from sklearn.model_selection import train_test_split \n",
        "X = dataset['data']\n",
        "Y = dataset['target']\n",
        "X_train, X_test, Y_train, Y_test = train_test_split(X, Y, test_size=0.5,random_state=1)"
      ],
      "metadata": {
        "id": "Yzaw4ovbwtEt"
      },
      "execution_count": 36,
      "outputs": []
    },
    {
      "cell_type": "code",
      "source": [
        "np.random.seed(42)\n",
        "from sklearn.tree import DecisionTreeClassifier \n",
        "dt = DecisionTreeClassifier()                                                     #Decision Tree classification\n",
        "dt.fit(X_train, Y_train)                                                          \n",
        "predict = dt.predict(X_test) \n",
        "print('Model score:',r2_score(Y_test,predict))\n",
        "print('Mean Absolute Error:', mean_absolute_error(Y_test, predict))\n",
        "print(\"Mean Sqaured Error\",mean_squared_error(Y_test,predict))\n",
        "print(\"Root Mean Square Error\",np.sqrt(mean_squared_error(Y_test,predict)))"
      ],
      "metadata": {
        "colab": {
          "base_uri": "https://localhost:8080/"
        },
        "id": "Dl3HAfUoxe-Y",
        "outputId": "4cc8c577-4bee-4257-ea91-5d4d230d6869"
      },
      "execution_count": 37,
      "outputs": [
        {
          "output_type": "stream",
          "name": "stdout",
          "text": [
            "Model score: 0.705456836518933\n",
            "Mean Absolute Error: 0.5272525027808677\n",
            "Mean Sqaured Error 2.4271412680756397\n",
            "Root Mean Square Error 1.5579285182817726\n"
          ]
        }
      ]
    },
    {
      "cell_type": "code",
      "source": [
        "#Spliting data in 70-30% test and train data\n",
        "np.random.seed(42)\n",
        "from sklearn.model_selection import train_test_split \n",
        "x = dataset['data']\n",
        "Y = dataset['target']\n",
        "x_train, x_test, Y_train, Y_test = train_test_split(x, Y, test_size=0.3,random_state=1)"
      ],
      "metadata": {
        "id": "n9KNbKWocH_v"
      },
      "execution_count": 38,
      "outputs": []
    },
    {
      "cell_type": "code",
      "source": [
        "np.random.seed(42)\n",
        "dt = DecisionTreeClassifier()                                                     #Decision Tree classification\n",
        "dt.fit(x_train, Y_train)                                                          \n",
        "predict = dt.predict(x_test) \n",
        "print('Model score:',r2_score(Y_test,predict))\n",
        "print('Mean Absolute Error:', mean_absolute_error(Y_test, predict))\n",
        "print(\"Mean Sqaured Error\",mean_squared_error(Y_test,predict))\n",
        "print(\"Root Mean Square Error\",np.sqrt(mean_squared_error(Y_test,predict)))"
      ],
      "metadata": {
        "colab": {
          "base_uri": "https://localhost:8080/"
        },
        "id": "vLxgcQlAcWLI",
        "outputId": "fb4a49ea-a409-4b99-ed52-fafae1e484db"
      },
      "execution_count": 39,
      "outputs": [
        {
          "output_type": "stream",
          "name": "stdout",
          "text": [
            "Model score: 0.6129826298113497\n",
            "Mean Absolute Error: 0.6111111111111112\n",
            "Mean Sqaured Error 3.196296296296296\n",
            "Root Mean Square Error 1.7878188656282539\n"
          ]
        }
      ]
    },
    {
      "cell_type": "markdown",
      "source": [
        "The splitting of data impacts the performance of the model. As per the above results, the model with 50-50% train and split data has better model performace and accuracy rate as compared to 70-30% split data."
      ],
      "metadata": {
        "id": "JV2dT8tXchr-"
      }
    },
    {
      "cell_type": "markdown",
      "source": [
        "3. Create two more KNN-based classification models using the dataset used in Q1 by varying distance metrics such as using  cityblock and cosine. Report the performances of the developed models including Q1 and explain the similarity or differences if any."
      ],
      "metadata": {
        "id": "UMPUKAGzc7DB"
      }
    },
    {
      "cell_type": "code",
      "source": [
        "from sklearn.model_selection import train_test_split \n",
        "x_train, x_test, y_train, y_test = train_test_split(x, y, test_size=0.2,random_state=1)"
      ],
      "metadata": {
        "id": "q0sXKcGoc8o8"
      },
      "execution_count": 40,
      "outputs": []
    },
    {
      "cell_type": "code",
      "source": [
        "KNN = KNeighborsClassifier(n_neighbors = 2,weights ='uniform', metric = 'cityblock')         #Classification of model\n",
        "KNN.fit(x_train, y_train)\n",
        "pred = KNN.predict(x_test) \n",
        "print('Model score:',r2_score(y_test,pred))\n",
        "print('Mean Absolute Error:', mean_absolute_error(y_test, pred))\n",
        "print(\"Mean Sqaured Error\",mean_squared_error(y_test,pred))\n",
        "print(\"Root Mean Square Error\",np.sqrt(mean_squared_error(y_test,pred)))"
      ],
      "metadata": {
        "colab": {
          "base_uri": "https://localhost:8080/"
        },
        "id": "6-zcE-YRdjUs",
        "outputId": "fbd69822-0b62-4376-ddea-cc4384c34feb"
      },
      "execution_count": 41,
      "outputs": [
        {
          "output_type": "stream",
          "name": "stdout",
          "text": [
            "Model score: 0.9808646171664527\n",
            "Mean Absolute Error: 0.03611111111111111\n",
            "Mean Sqaured Error 0.15833333333333333\n",
            "Root Mean Square Error 0.39791121287711073\n"
          ]
        }
      ]
    },
    {
      "cell_type": "code",
      "source": [
        "KNN = KNeighborsClassifier(n_neighbors = 2,weights ='uniform', metric = 'cosine')            #Classification of model\n",
        "KNN.fit(x_train, y_train)                                                                    \n",
        "pred = KNN.predict(x_test) \n",
        "print('Model score:',r2_score(y_test,pred))\n",
        "print('Mean Absolute Error:', mean_absolute_error(y_test, pred))\n",
        "print(\"Mean Sqaured Error\",mean_squared_error(y_test,pred))\n",
        "print(\"Root Mean Square Error\",np.sqrt(mean_squared_error(y_test,pred)))"
      ],
      "metadata": {
        "colab": {
          "base_uri": "https://localhost:8080/"
        },
        "id": "gqq-oJdAetK6",
        "outputId": "fe4d24c8-973e-44c6-9d16-a402bdb6435d"
      },
      "execution_count": 42,
      "outputs": [
        {
          "output_type": "stream",
          "name": "stdout",
          "text": [
            "Model score: 0.970121946102005\n",
            "Mean Absolute Error: 0.041666666666666664\n",
            "Mean Sqaured Error 0.24722222222222223\n",
            "Root Mean Square Error 0.49721446300587663\n"
          ]
        }
      ]
    },
    {
      "cell_type": "markdown",
      "source": [
        "The model performance of cityblock distance metric is best compared to other two model performances. The accuracy rate of model with minkowski and cosine distance metric are same. "
      ],
      "metadata": {
        "id": "MYezbzhGe_ua"
      }
    }
  ]
}